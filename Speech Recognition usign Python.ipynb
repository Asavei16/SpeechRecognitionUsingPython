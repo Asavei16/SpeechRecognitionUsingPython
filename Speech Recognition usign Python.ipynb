{
 "cells": [
  {
   "cell_type": "code",
   "execution_count": 1,
   "metadata": {},
   "outputs": [],
   "source": [
    "# pip install SpeechRecognition\n",
    "# pip install PyAudio\n",
    "\n",
    "import speech_recognition as sr\n",
    "import pyaudio"
   ]
  },
  {
   "cell_type": "code",
   "execution_count": 2,
   "metadata": {},
   "outputs": [],
   "source": [
    "# Initialize the recognizer\n",
    "r = sr.Recognizer()"
   ]
  },
  {
   "cell_type": "code",
   "execution_count": 3,
   "metadata": {},
   "outputs": [],
   "source": [
    "############### SPEECH RECOGNITION FROM MICROPHONE LIVE ####################"
   ]
  },
  {
   "cell_type": "code",
   "execution_count": 12,
   "metadata": {},
   "outputs": [
    {
     "name": "stdout",
     "output_type": "stream",
     "text": [
      "Liniste, calibrare zgomot fundal...\n",
      "Calibrat, poti vorbi...\n",
      "Tu ai spus : Salut ce faci\n"
     ]
    }
   ],
   "source": [
    "# Utilizam microfonul ca sursa de intrare\n",
    "with sr.Microphone() as mic:\n",
    "            #asteptati o secunda pentru a ajusta \n",
    "            #pragul de energie in functie de \n",
    "            #nivelul de zgomot din jur\n",
    "        print(\"Liniste, calibrare zgomot fundal...\")\n",
    "        r.adjust_for_ambient_noise(mic, duration=2)\n",
    "        print(\"Calibrat, poti vorbi...\")\n",
    "        \n",
    "        #Asculta intrarea utilizatorului\n",
    "        audio2 = r.listen(mic)\n",
    "        \n",
    "        #Folosind google pentru a recunoaste sunetul in limba romana\n",
    "        MyText = r.recognize_google(audio2, language='ro-RO')\n",
    "        \n",
    "        try:\n",
    "            print(\"Tu ai spus : \" + MyText)\n",
    "        except Exception as e:\n",
    "            print(\"A aparut o eroare -> \" + str(e))\n",
    "            \n",
    "#         SpeakText(MyText)"
   ]
  },
  {
   "cell_type": "code",
   "execution_count": 13,
   "metadata": {},
   "outputs": [
    {
     "name": "stdout",
     "output_type": "stream",
     "text": [
      "Inregistrarea a fost salvata cu succes!\n"
     ]
    }
   ],
   "source": [
    "#Optional\n",
    "#Salvam inregistrarea sub un fisier wav\n",
    "with open(\"romana.wav\", \"wb\") as f:\n",
    "            f.write(audio2.get_wav_data())\n",
    "            print(\"Inregistrarea a fost salvata cu succes!\")"
   ]
  },
  {
   "cell_type": "code",
   "execution_count": 6,
   "metadata": {},
   "outputs": [],
   "source": [
    "############### SPEECH RECOGNITION FROM AUDIO FILE ORIGINAL ####################"
   ]
  },
  {
   "cell_type": "code",
   "execution_count": 17,
   "metadata": {},
   "outputs": [],
   "source": [
    "sample_audio = sr.AudioFile('59_Split_.wav')\n",
    "# sample_audio = sr.AudioFile('romana.wav')\n",
    "# sample_audio = sr.AudioFile('60_Split_.wav')\n",
    "# sample_audio = sr.AudioFile('61_Split_.wav')\n",
    "# sample_audio = sr.AudioFile('62_Split_.wav')\n",
    "# sample_audio = sr.AudioFile('63_Split_.wav')\n",
    "with sample_audio as source:\n",
    "       audio=r.record(source)"
   ]
  },
  {
   "cell_type": "code",
   "execution_count": 15,
   "metadata": {},
   "outputs": [
    {
     "data": {
      "text/plain": [
       "'salute church'"
      ]
     },
     "execution_count": 15,
     "metadata": {},
     "output_type": "execute_result"
    }
   ],
   "source": [
    "r.recognize_google(audio)"
   ]
  },
  {
   "cell_type": "code",
   "execution_count": 18,
   "metadata": {},
   "outputs": [
    {
     "data": {
      "text/plain": [
       "'milarepa ședea cufundat în meditație alături de Sora lui care venise până la urmă să i se alăture după ce o viață întreagă fusesei prostituată mătușa nu cuteză să treacă puntea se ducea la intrarea în peșteră milarepa sunt cuprinsă de căință unchiul tău a murit în chinuri groaznice Am înțeles că toată viața noastră am umblat pe un drum greșit milarepa poți să mă ajuți Cred că am nevoie de tine soră se ridică atunci și aruncă mătușii vorbe de ocară se întoarse cât mai în urmă în trecut și spuse că toate nefericirea familiei ei venea de la unchiul și de la mătușa care nefericire întrebă milarepa eu sunt fericit cum nu a mai fost niciodată am învățat să mă îndepărtez de mine însumi să simt deșertăciunea lucrurilor și să mă rog pentru soarta celorlalte făpturi'"
      ]
     },
     "execution_count": 18,
     "metadata": {},
     "output_type": "execute_result"
    }
   ],
   "source": [
    "r.recognize_google(audio,language='ro-RO') #pentru romana"
   ]
  },
  {
   "cell_type": "code",
   "execution_count": null,
   "metadata": {},
   "outputs": [],
   "source": []
  }
 ],
 "metadata": {
  "kernelspec": {
   "display_name": "Python 3",
   "language": "python",
   "name": "python3"
  },
  "language_info": {
   "codemirror_mode": {
    "name": "ipython",
    "version": 3
   },
   "file_extension": ".py",
   "mimetype": "text/x-python",
   "name": "python",
   "nbconvert_exporter": "python",
   "pygments_lexer": "ipython3",
   "version": "3.7.3"
  }
 },
 "nbformat": 4,
 "nbformat_minor": 2
}
